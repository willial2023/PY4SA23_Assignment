{
 "cells": [
  {
   "cell_type": "markdown",
   "id": "0889b4b1-272a-4290-b2a9-a4641c93243e",
   "metadata": {},
   "source": [
    "# Lab Assignment 2 - Louis Williams \n",
    "# Code: 200015774\n",
    "# https://github.com/willial2023/PY4SA23-Assignment.git"
   ]
  },
  {
   "cell_type": "markdown",
   "id": "22055317-fcd8-41c4-8bb9-0ad3bf7202de",
   "metadata": {},
   "source": [
    "# Task 1: Creating an If...Else statement that will test whether a number is divisible by three."
   ]
  },
  {
   "cell_type": "code",
   "execution_count": 19,
   "id": "efe6a2f0-d9ca-4bee-a658-f1641e53300e",
   "metadata": {
    "tags": []
   },
   "outputs": [
    {
     "name": "stdout",
     "output_type": "stream",
     "text": [
      "YOUR VALUE is Divisble by 3\n"
     ]
    }
   ],
   "source": [
    "x = 21\n",
    "if int(x) % 3 == 0:\n",
    "    print(\"YOUR VALUE is Divisble by 3\")\n",
    "else:\n",
    "    print(\"YOUR VALUE is not Divisible by 3\")"
   ]
  },
  {
   "cell_type": "markdown",
   "id": "cc762860-90fb-4dec-91f7-07af4e1ab04d",
   "metadata": {},
   "source": [
    "# This code works because when you divide one integer by another integer if the original integer is divisble by the latter then the mod operation represented by the % sign will produce an output of \"0\" because there are no decimals, which the second line checks with the double equals sign, from which an If...else statement can be used to print the desired response. "
   ]
  },
  {
   "cell_type": "markdown",
   "id": "1c3624e9-6293-4551-8051-54440decda86",
   "metadata": {},
   "source": [
    "# Blank Space for Seperation. "
   ]
  },
  {
   "cell_type": "markdown",
   "id": "de40e919-2139-4250-b883-72fb2ecd385e",
   "metadata": {},
   "source": [
    "# Task 2: Creating an If...else statement that can test whether a type of fruit, represented as a string of text is in a list of acceptable fruits (apple, orange, pear, kiwi, or strawberry). "
   ]
  },
  {
   "cell_type": "code",
   "execution_count": 28,
   "id": "686f695f-02de-4eb1-80c4-2fd1dc108a19",
   "metadata": {},
   "outputs": [
    {
     "ename": "SyntaxError",
     "evalue": "invalid syntax (3747249614.py, line 5)",
     "output_type": "error",
     "traceback": [
      "\u001b[1;36m  Cell \u001b[1;32mIn[28], line 5\u001b[1;36m\u001b[0m\n\u001b[1;33m    If suspect is in accept_thesefruits\u001b[0m\n\u001b[1;37m       ^\u001b[0m\n\u001b[1;31mSyntaxError\u001b[0m\u001b[1;31m:\u001b[0m invalid syntax\n"
     ]
    }
   ],
   "source": [
    "accept_thesefruits = [\"apple\",\"orange\", \"pear\", \"Kiwi\", \"strawberry\"]\n",
    "\n",
    "fruit = banana\n",
    "\n",
    "If fruit is in accept_thesefruits\n",
    "print(\"Your [Fruit is acceptable\")\n",
    "\n",
    "else:\n",
    "    print(\"Your Fruit is not acceptable\")"
   ]
  },
  {
   "cell_type": "code",
   "execution_count": null,
   "id": "2ac622c6-d96a-4dd7-b1e9-57861cc3b8ac",
   "metadata": {},
   "outputs": [],
   "source": []
  }
 ],
 "metadata": {
  "kernelspec": {
   "display_name": "Python 3 (ipykernel)",
   "language": "python",
   "name": "python3"
  },
  "language_info": {
   "codemirror_mode": {
    "name": "ipython",
    "version": 3
   },
   "file_extension": ".py",
   "mimetype": "text/x-python",
   "name": "python",
   "nbconvert_exporter": "python",
   "pygments_lexer": "ipython3",
   "version": "3.10.9"
  }
 },
 "nbformat": 4,
 "nbformat_minor": 5
}
