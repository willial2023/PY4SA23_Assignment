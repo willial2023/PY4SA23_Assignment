{
 "cells": [
  {
   "cell_type": "markdown",
   "id": "0889b4b1-272a-4290-b2a9-a4641c93243e",
   "metadata": {},
   "source": [
    "# Lab Assignment 2 - Louis Williams \n",
    "# Code: 200015774\n",
    "# https://github.com/willial2023/PY4SA23-Assignment.git"
   ]
  },
  {
   "cell_type": "markdown",
   "id": "22055317-fcd8-41c4-8bb9-0ad3bf7202de",
   "metadata": {},
   "source": [
    "# Task 1: Creating an If...Else statement that will test whether a number is divisible by three."
   ]
  },
  {
   "cell_type": "code",
   "execution_count": 19,
   "id": "efe6a2f0-d9ca-4bee-a658-f1641e53300e",
   "metadata": {
    "tags": []
   },
   "outputs": [
    {
     "name": "stdout",
     "output_type": "stream",
     "text": [
      "YOUR VALUE is Divisble by 3\n"
     ]
    }
   ],
   "source": [
    "x = 21\n",
    "if int(x) % 3 == 0:\n",
    "    print(\"YOUR VALUE is Divisble by 3\")\n",
    "else:\n",
    "    print(\"YOUR VALUE is not Divisible by 3\")"
   ]
  },
  {
   "cell_type": "markdown",
   "id": "cc762860-90fb-4dec-91f7-07af4e1ab04d",
   "metadata": {},
   "source": [
    "# This code works because when you divide one integer by another integer if the original integer is divisble by the latter then the mod operation represented by the % sign will produce an output of \"0\" because there are no decimals, which the second line checks with the double equals sign, from which an If...else statement can be used to print the desired response to this criteria."
   ]
  },
  {
   "cell_type": "markdown",
   "id": "1c3624e9-6293-4551-8051-54440decda86",
   "metadata": {},
   "source": [
    "# Blank Space for Seperation. "
   ]
  },
  {
   "cell_type": "markdown",
   "id": "de40e919-2139-4250-b883-72fb2ecd385e",
   "metadata": {},
   "source": [
    "# Task 2: Creating an If...else statement that can test whether a type of fruit, represented as a string of text is in a list of acceptable fruits (apple, orange, pear, kiwi, or strawberry). "
   ]
  },
  {
   "cell_type": "code",
   "execution_count": 46,
   "id": "686f695f-02de-4eb1-80c4-2fd1dc108a19",
   "metadata": {},
   "outputs": [
    {
     "name": "stdout",
     "output_type": "stream",
     "text": [
      "YOUR DRAGON FRUIT is not acceptable.\n"
     ]
    }
   ],
   "source": [
    "accept_thesefruits = [\"apple\",\"orange\", \"pear\", \"Kiwi\", \"strawberry\"]\n",
    "\n",
    "susfruit = \"dragon fruit\"\n",
    "\n",
    "if susfruit in accept_thesefruits:\n",
    "    print(f\"YOUR {fruit.upper()} is acceptable.\")\n",
    "\n",
    "else:\n",
    "    print(f\"YOUR {fruit.upper()} is not acceptable.\")"
   ]
  },
  {
   "cell_type": "markdown",
   "id": "49faa1f8-eb69-49f5-be34-1527f0b63a5c",
   "metadata": {},
   "source": [
    "#Blank Space for Seperation"
   ]
  },
  {
   "cell_type": "markdown",
   "id": "f432a2fd-dcad-49ec-9092-33531edd45cd",
   "metadata": {},
   "source": [
    "# Task 3: Creating a function that can calculate the distance between two coordinates using the haversine formula with input parameters of two lists that are a par of coordinates."
   ]
  },
  {
   "cell_type": "markdown",
   "id": "c8e56464-8fc5-4f55-b94d-ae381416ef60",
   "metadata": {},
   "source": [
    "# Blank Space for Seperation"
   ]
  },
  {
   "cell_type": "markdown",
   "id": "d0d8de04-9a1b-4366-b86d-e6d9b3c34679",
   "metadata": {},
   "source": [
    "# Pandas and NumPy Assesment Section:"
   ]
  },
  {
   "cell_type": "markdown",
   "id": "bf0ee10b-d444-408c-a4a5-e1067c265b29",
   "metadata": {},
   "source": [
    "# Data Importing of portland park trees .csv file. "
   ]
  },
  {
   "cell_type": "code",
   "execution_count": 49,
   "id": "63d5fcd7-8232-4689-b579-a58eed954fd6",
   "metadata": {},
   "outputs": [],
   "source": [
    "import pandas as pd\n"
   ]
  },
  {
   "cell_type": "code",
   "execution_count": 54,
   "id": "779817f7-cb16-4a5e-903b-53a491c5399c",
   "metadata": {},
   "outputs": [
    {
     "data": {
      "text/plain": [
       "'C:\\\\Users\\\\Louis\\\\Documents\\\\PY4SA23_Assignment'"
      ]
     },
     "execution_count": 54,
     "metadata": {},
     "output_type": "execute_result"
    }
   ],
   "source": [
    "import os\n",
    "os.getcwd()"
   ]
  },
  {
   "cell_type": "code",
   "execution_count": null,
   "id": "7604bc12-2897-4555-9079-5c9f662082bb",
   "metadata": {},
   "outputs": [],
   "source": []
  }
 ],
 "metadata": {
  "kernelspec": {
   "display_name": "Python 3 (ipykernel)",
   "language": "python",
   "name": "python3"
  },
  "language_info": {
   "codemirror_mode": {
    "name": "ipython",
    "version": 3
   },
   "file_extension": ".py",
   "mimetype": "text/x-python",
   "name": "python",
   "nbconvert_exporter": "python",
   "pygments_lexer": "ipython3",
   "version": "3.10.9"
  }
 },
 "nbformat": 4,
 "nbformat_minor": 5
}
